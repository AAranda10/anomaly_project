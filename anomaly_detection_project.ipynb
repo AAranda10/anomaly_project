{
 "cells": [
  {
   "cell_type": "code",
   "execution_count": 1,
   "metadata": {},
   "outputs": [],
   "source": [
    "import acquire\n",
    "import outliers\n",
    "import prep\n",
    "import pandas as pd\n",
    "import numpy as np\n",
    "import math\n",
    "import seaborn as sns\n",
    "from datetime import datetime\n",
    "import warnings\n",
    "warnings.filterwarnings(\"ignore\")\n",
    "\n",
    "from sklearn.metrics import mean_squared_error\n",
    "\n",
    "\n",
    "import matplotlib.pyplot as plt\n",
    "import seaborn as sns\n",
    "from pandas.plotting import register_matplotlib_converters\n",
    "\n",
    "import statsmodels.api as sm\n",
    "from statsmodels.tsa.api import Holt\n",
    "\n",
    "from sklearn import metrics\n",
    "\n",
    "from scipy.stats import entropy\n",
    "\n",
    "import matplotlib.dates as mdates"
   ]
  },
  {
   "cell_type": "markdown",
   "metadata": {},
   "source": [
    "## Questions To Answer\n",
    "- Which lesson appears to attract the most traffic consistently across cohorts (per program)?\n",
    "- Is there a cohort that referred to a lesson significantly more that other cohorts seemed to gloss over? \n",
    "- Are there students who, when active, hardly access the curriculum? If so, what information do you have about these students? \n",
    "- Is there any suspicious activity, such as users/machines/etc accessing the curriculum who shouldn’t be? Does it appear that any web-scraping is happening? Are there any suspicious IP addresses? Any odd user-agents? \n",
    "- At some point in the last year, ability for students and alumni to cross-access curriculum (web dev to ds, ds to web dev) should have been shut off. Do you see any evidence of that happening? Did it happen before? \n",
    "- What topics are grads continuing to reference after graduation and into their jobs (for each program)? \n",
    "- Which lessons are least accessed? \n",
    "- Anything else I should be aware of? "
   ]
  },
  {
   "cell_type": "code",
   "execution_count": 2,
   "metadata": {},
   "outputs": [],
   "source": [
    "df = prep.prep_curriculum_data()"
   ]
  },
  {
   "cell_type": "code",
   "execution_count": 3,
   "metadata": {},
   "outputs": [
    {
     "data": {
      "text/html": [
       "<div>\n",
       "<style scoped>\n",
       "    .dataframe tbody tr th:only-of-type {\n",
       "        vertical-align: middle;\n",
       "    }\n",
       "\n",
       "    .dataframe tbody tr th {\n",
       "        vertical-align: top;\n",
       "    }\n",
       "\n",
       "    .dataframe thead th {\n",
       "        text-align: right;\n",
       "    }\n",
       "</style>\n",
       "<table border=\"1\" class=\"dataframe\">\n",
       "  <thead>\n",
       "    <tr style=\"text-align: right;\">\n",
       "      <th></th>\n",
       "      <th>page_viewed</th>\n",
       "      <th>user_id</th>\n",
       "      <th>cohort_id</th>\n",
       "      <th>ip</th>\n",
       "      <th>name</th>\n",
       "      <th>start_date</th>\n",
       "      <th>end_date</th>\n",
       "      <th>program_id</th>\n",
       "      <th>conv_ip</th>\n",
       "    </tr>\n",
       "  </thead>\n",
       "  <tbody>\n",
       "    <tr>\n",
       "      <th>2018-01-26 09:56:02</th>\n",
       "      <td>java-ii</td>\n",
       "      <td>1.0</td>\n",
       "      <td>8.0</td>\n",
       "      <td>97.105.19.61</td>\n",
       "      <td>Hampton</td>\n",
       "      <td>2015-09-22</td>\n",
       "      <td>2016-02-06</td>\n",
       "      <td>1.0</td>\n",
       "      <td>971051961.0</td>\n",
       "    </tr>\n",
       "    <tr>\n",
       "      <th>2018-01-26 09:56:05</th>\n",
       "      <td>java-ii/object-oriented-programming</td>\n",
       "      <td>1.0</td>\n",
       "      <td>8.0</td>\n",
       "      <td>97.105.19.61</td>\n",
       "      <td>Hampton</td>\n",
       "      <td>2015-09-22</td>\n",
       "      <td>2016-02-06</td>\n",
       "      <td>1.0</td>\n",
       "      <td>971051961.0</td>\n",
       "    </tr>\n",
       "    <tr>\n",
       "      <th>2018-01-26 09:56:06</th>\n",
       "      <td>slides/object_oriented_programming</td>\n",
       "      <td>1.0</td>\n",
       "      <td>8.0</td>\n",
       "      <td>97.105.19.61</td>\n",
       "      <td>Hampton</td>\n",
       "      <td>2015-09-22</td>\n",
       "      <td>2016-02-06</td>\n",
       "      <td>1.0</td>\n",
       "      <td>971051961.0</td>\n",
       "    </tr>\n",
       "    <tr>\n",
       "      <th>2018-01-26 10:40:15</th>\n",
       "      <td>javascript-i/functions</td>\n",
       "      <td>1.0</td>\n",
       "      <td>8.0</td>\n",
       "      <td>97.105.19.61</td>\n",
       "      <td>Hampton</td>\n",
       "      <td>2015-09-22</td>\n",
       "      <td>2016-02-06</td>\n",
       "      <td>1.0</td>\n",
       "      <td>971051961.0</td>\n",
       "    </tr>\n",
       "    <tr>\n",
       "      <th>2018-01-26 11:26:13</th>\n",
       "      <td>java-i</td>\n",
       "      <td>1.0</td>\n",
       "      <td>8.0</td>\n",
       "      <td>97.105.19.61</td>\n",
       "      <td>Hampton</td>\n",
       "      <td>2015-09-22</td>\n",
       "      <td>2016-02-06</td>\n",
       "      <td>1.0</td>\n",
       "      <td>971051961.0</td>\n",
       "    </tr>\n",
       "    <tr>\n",
       "      <th>...</th>\n",
       "      <td>...</td>\n",
       "      <td>...</td>\n",
       "      <td>...</td>\n",
       "      <td>...</td>\n",
       "      <td>...</td>\n",
       "      <td>...</td>\n",
       "      <td>...</td>\n",
       "      <td>...</td>\n",
       "      <td>...</td>\n",
       "    </tr>\n",
       "    <tr>\n",
       "      <th>NaT</th>\n",
       "      <td>NaN</td>\n",
       "      <td>NaN</td>\n",
       "      <td>10.0</td>\n",
       "      <td>NaN</td>\n",
       "      <td>Balboa</td>\n",
       "      <td>2015-11-03</td>\n",
       "      <td>2016-03-11</td>\n",
       "      <td>4.0</td>\n",
       "      <td>NaN</td>\n",
       "    </tr>\n",
       "    <tr>\n",
       "      <th>NaT</th>\n",
       "      <td>NaN</td>\n",
       "      <td>NaN</td>\n",
       "      <td>20.0</td>\n",
       "      <td>NaN</td>\n",
       "      <td>Redwood</td>\n",
       "      <td>2017-07-31</td>\n",
       "      <td>2017-12-06</td>\n",
       "      <td>2.0</td>\n",
       "      <td>NaN</td>\n",
       "    </tr>\n",
       "    <tr>\n",
       "      <th>NaT</th>\n",
       "      <td>NaN</td>\n",
       "      <td>NaN</td>\n",
       "      <td>30.0</td>\n",
       "      <td>NaN</td>\n",
       "      <td>Ada</td>\n",
       "      <td>2019-02-04</td>\n",
       "      <td>2019-06-16</td>\n",
       "      <td>3.0</td>\n",
       "      <td>NaN</td>\n",
       "    </tr>\n",
       "    <tr>\n",
       "      <th>NaT</th>\n",
       "      <td>NaN</td>\n",
       "      <td>NaN</td>\n",
       "      <td>60.0</td>\n",
       "      <td>NaN</td>\n",
       "      <td>Io</td>\n",
       "      <td>2020-07-20</td>\n",
       "      <td>2021-01-21</td>\n",
       "      <td>2.0</td>\n",
       "      <td>NaN</td>\n",
       "    </tr>\n",
       "    <tr>\n",
       "      <th>NaT</th>\n",
       "      <td>NaN</td>\n",
       "      <td>NaN</td>\n",
       "      <td>132.0</td>\n",
       "      <td>NaN</td>\n",
       "      <td>Kalypso</td>\n",
       "      <td>2020-11-02</td>\n",
       "      <td>2021-05-04</td>\n",
       "      <td>2.0</td>\n",
       "      <td>NaN</td>\n",
       "    </tr>\n",
       "  </tbody>\n",
       "</table>\n",
       "<p>607171 rows × 9 columns</p>\n",
       "</div>"
      ],
      "text/plain": [
       "                                             page_viewed  user_id  cohort_id  \\\n",
       "2018-01-26 09:56:02                              java-ii      1.0        8.0   \n",
       "2018-01-26 09:56:05  java-ii/object-oriented-programming      1.0        8.0   \n",
       "2018-01-26 09:56:06   slides/object_oriented_programming      1.0        8.0   \n",
       "2018-01-26 10:40:15               javascript-i/functions      1.0        8.0   \n",
       "2018-01-26 11:26:13                               java-i      1.0        8.0   \n",
       "...                                                  ...      ...        ...   \n",
       "NaT                                                  NaN      NaN       10.0   \n",
       "NaT                                                  NaN      NaN       20.0   \n",
       "NaT                                                  NaN      NaN       30.0   \n",
       "NaT                                                  NaN      NaN       60.0   \n",
       "NaT                                                  NaN      NaN      132.0   \n",
       "\n",
       "                               ip     name  start_date    end_date  \\\n",
       "2018-01-26 09:56:02  97.105.19.61  Hampton  2015-09-22  2016-02-06   \n",
       "2018-01-26 09:56:05  97.105.19.61  Hampton  2015-09-22  2016-02-06   \n",
       "2018-01-26 09:56:06  97.105.19.61  Hampton  2015-09-22  2016-02-06   \n",
       "2018-01-26 10:40:15  97.105.19.61  Hampton  2015-09-22  2016-02-06   \n",
       "2018-01-26 11:26:13  97.105.19.61  Hampton  2015-09-22  2016-02-06   \n",
       "...                           ...      ...         ...         ...   \n",
       "NaT                           NaN   Balboa  2015-11-03  2016-03-11   \n",
       "NaT                           NaN  Redwood  2017-07-31  2017-12-06   \n",
       "NaT                           NaN      Ada  2019-02-04  2019-06-16   \n",
       "NaT                           NaN       Io  2020-07-20  2021-01-21   \n",
       "NaT                           NaN  Kalypso  2020-11-02  2021-05-04   \n",
       "\n",
       "                     program_id      conv_ip  \n",
       "2018-01-26 09:56:02         1.0  971051961.0  \n",
       "2018-01-26 09:56:05         1.0  971051961.0  \n",
       "2018-01-26 09:56:06         1.0  971051961.0  \n",
       "2018-01-26 10:40:15         1.0  971051961.0  \n",
       "2018-01-26 11:26:13         1.0  971051961.0  \n",
       "...                         ...          ...  \n",
       "NaT                         4.0          NaN  \n",
       "NaT                         2.0          NaN  \n",
       "NaT                         3.0          NaN  \n",
       "NaT                         2.0          NaN  \n",
       "NaT                         2.0          NaN  \n",
       "\n",
       "[607171 rows x 9 columns]"
      ]
     },
     "execution_count": 3,
     "metadata": {},
     "output_type": "execute_result"
    }
   ],
   "source": [
    "df"
   ]
  },
  {
   "cell_type": "code",
   "execution_count": 4,
   "metadata": {},
   "outputs": [
    {
     "data": {
      "text/plain": [
       "page_viewed    7\n",
       "user_id        6\n",
       "cohort_id      0\n",
       "ip             6\n",
       "name           0\n",
       "start_date     0\n",
       "end_date       0\n",
       "program_id     0\n",
       "conv_ip        6\n",
       "dtype: int64"
      ]
     },
     "execution_count": 4,
     "metadata": {},
     "output_type": "execute_result"
    }
   ],
   "source": [
    "df.isnull().sum()"
   ]
  },
  {
   "cell_type": "code",
   "execution_count": 5,
   "metadata": {},
   "outputs": [],
   "source": [
    "df = df.dropna()"
   ]
  },
  {
   "cell_type": "code",
   "execution_count": 6,
   "metadata": {},
   "outputs": [],
   "source": [
    "df.index.name = 'datetime'"
   ]
  },
  {
   "cell_type": "code",
   "execution_count": 7,
   "metadata": {},
   "outputs": [
    {
     "data": {
      "text/plain": [
       "192171117210.0    8062\n",
       "173173115201.0    1157\n",
       "173174211206.0     945\n",
       "170248173245.0     855\n",
       "170248173247.0     822\n",
       "                  ... \n",
       "199116118166.0       1\n",
       "173174147198.0       1\n",
       "173239232157.0       1\n",
       "173127108144.0       1\n",
       "192241235228.0       1\n",
       "Name: x, Length: 365, dtype: int64"
      ]
     },
     "execution_count": 7,
     "metadata": {},
     "output_type": "execute_result"
    }
   ],
   "source": [
    "pd.options.display.float_format = '{:.1f}'.format\n",
    "ip_outliers = outliers.emp_rule(df.conv_ip, 3)\n",
    "ip_outliers.x.value_counts()"
   ]
  },
  {
   "cell_type": "code",
   "execution_count": null,
   "metadata": {},
   "outputs": [],
   "source": [
    "user_outliers = outliers.emp_rule(df.user_id, 2)\n",
    "user_outliers.x.value_counts()"
   ]
  },
  {
   "cell_type": "markdown",
   "metadata": {},
   "source": [
    "### Which lesson appears to attract the most traffic consistently across cohorts (per program)?"
   ]
  },
  {
   "cell_type": "code",
   "execution_count": null,
   "metadata": {},
   "outputs": [],
   "source": [
    "pd.options.display.max_columns = None\n",
    "pd.options.display.max_rows = None"
   ]
  },
  {
   "cell_type": "code",
   "execution_count": null,
   "metadata": {},
   "outputs": [],
   "source": [
    "plt.figure(figsize=(8,5))\n",
    "wd = df[df.program_id != 3]\n",
    "wd = wd[wd.name != 'Staff']\n",
    "wd = wd[wd.name != 'Unknown']\n",
    "wd.page_viewed.value_counts().plot()\n",
    "plt.xticks(rotation=90)\n",
    "plt.ylabel('Number of Requests')\n",
    "plt.xlabel('Curriculum Accessed')\n",
    "plt.title('Subject Accessed The Most By Web Dev Students')"
   ]
  },
  {
   "cell_type": "code",
   "execution_count": null,
   "metadata": {},
   "outputs": [],
   "source": [
    "plt.figure(figsize=(8,5))\n",
    "ds = df[df.program_id == 3]\n",
    "ds.page_viewed.value_counts().plot()\n",
    "plt.xticks(rotation=90)\n",
    "plt.ylabel('Number of Requests')\n",
    "plt.xlabel('Curriculum Accessed')\n",
    "plt.title('Subject Accessed The Most By Data Science Students')"
   ]
  },
  {
   "cell_type": "markdown",
   "metadata": {},
   "source": [
    "## Conclusion\n",
    "- Web Dev Students access the Javascript I portion of the curriculum the most.\n",
    "- Data Science students access Intro to Data science the most."
   ]
  },
  {
   "cell_type": "markdown",
   "metadata": {},
   "source": [
    "### When were the programs accessing these curriculum subjects?"
   ]
  },
  {
   "cell_type": "code",
   "execution_count": null,
   "metadata": {},
   "outputs": [],
   "source": [
    "plt.figure(figsize=(8,5))\n",
    "wd[wd.page_viewed == 'javascript-i'].page_viewed.resample('w').count().plot()\n",
    "plt.title('Javascript I Weekly Page Visits')\n",
    "plt.xlabel('Weeks')\n",
    "plt.ylabel('Number of Requests')"
   ]
  },
  {
   "cell_type": "code",
   "execution_count": null,
   "metadata": {},
   "outputs": [],
   "source": [
    "plt.figure(figsize=(8,5))\n",
    "ds[ds.page_viewed == '1-fundamentals/1.1-intro-to-data-science'].page_viewed.resample('w').count().plot()\n",
    "plt.title('Intro To Data Science Weekly Page Visits')\n",
    "plt.xlabel('Weeks')\n",
    "plt.ylabel('Number of Requests')"
   ]
  },
  {
   "cell_type": "markdown",
   "metadata": {},
   "source": [
    "### Conclusions\n",
    "- Web Dev students appear to have been constantly referring back to the Javascript I material\n",
    "- Data Scientist accessed the Intro to Data Science lesson in bulk and a lot more often for a short period of time."
   ]
  },
  {
   "cell_type": "markdown",
   "metadata": {},
   "source": [
    "### Is there a cohort that referred to a lesson significantly more than other cohorts seemed to gloss over?"
   ]
  },
  {
   "cell_type": "code",
   "execution_count": null,
   "metadata": {
    "scrolled": true
   },
   "outputs": [],
   "source": [
    "wd.groupby(by = wd.name).page_viewed.value_counts().nlargest(10)"
   ]
  },
  {
   "cell_type": "code",
   "execution_count": null,
   "metadata": {},
   "outputs": [],
   "source": [
    "ds.groupby(by = ds.name).page_viewed.value_counts().nlargest(10)"
   ]
  },
  {
   "cell_type": "markdown",
   "metadata": {},
   "source": [
    "### Conclusions\n",
    "\n",
    "Web Dev:\n",
    "\n",
    "- Ceres spent a significant amount of time on index.html compared to other cohorts.\n",
    "- It appears the vast majority spent their time on Java related subjects.\n",
    "\n",
    "\n",
    "Data Science:\n",
    "\n",
    "- Darden accessed the Classification Overview lesson significantly the most.\n",
    "- Curies spent more time on the SQL Overview than other cohorts."
   ]
  },
  {
   "cell_type": "markdown",
   "metadata": {},
   "source": [
    "### Are there students who, when active, hardly access the curriculum? If so, what information do you have about these students?"
   ]
  },
  {
   "cell_type": "code",
   "execution_count": null,
   "metadata": {},
   "outputs": [],
   "source": [
    "active_students = df[(df.name == 'Jupiter') | (df.name == 'Bash') | (df.name == 'Darden') | (df.name == 'Hyperion')| (df.name == 'Io')]"
   ]
  },
  {
   "cell_type": "code",
   "execution_count": null,
   "metadata": {},
   "outputs": [],
   "source": [
    "active_students.head()"
   ]
  },
  {
   "cell_type": "code",
   "execution_count": null,
   "metadata": {},
   "outputs": [],
   "source": [
    "active_students.user_id.value_counts().tail(20)"
   ]
  },
  {
   "cell_type": "code",
   "execution_count": null,
   "metadata": {},
   "outputs": [],
   "source": [
    "barely_active = df[(df.user_id == 679.0)|(df.user_id == 697.0)|(df.user_id == 772.0)|(df.user_id == 785.0)|(df.user_id == 780.0)|(df.user_id == 783.0)]"
   ]
  },
  {
   "cell_type": "code",
   "execution_count": null,
   "metadata": {},
   "outputs": [],
   "source": [
    "barely_active"
   ]
  },
  {
   "cell_type": "code",
   "execution_count": null,
   "metadata": {},
   "outputs": [],
   "source": [
    "df[df.ip == '136.50.70.27'].user_id.value_counts()"
   ]
  },
  {
   "cell_type": "code",
   "execution_count": null,
   "metadata": {},
   "outputs": [],
   "source": [
    "df[df.ip == '99.132.128.255'].user_id.value_counts()"
   ]
  },
  {
   "cell_type": "markdown",
   "metadata": {},
   "source": [
    "### Conclusions\n",
    "\n",
    "- Web Dev and Data Science Cohorts both had roughly the same trend as to student inactivity.\n",
    "- The lowest activity on the curriculum came out of both Darden and Jupiter which are the most recent classes at CodeUp.\n",
    "- The major similarity between the two cohorts and lack of activity is that both cohorts were full time at home.\n",
    "- Zoom appears to have had a major impact on the activity to the curriculum from past cohorts, since the instructors have the ability to screen share the curriculum.\n",
    "- It appears students are just referring to the curriculum to read and study, rather than follow along in class as it was before.\n",
    "- One big factor is it appears that there is a new user id generated for every device a student accesses the curriculum.\n",
    "- Shown above, a student will appear to be not interacting but they are actually more active with another user id."
   ]
  },
  {
   "cell_type": "markdown",
   "metadata": {},
   "source": [
    "### Is there any suspicious activity, such as users/machines/etc accessing the curriculum who shouldn’t be? Does it appear that any web-scraping is happening? Are there any suspicious IP addresses? Any odd user-agents?"
   ]
  },
  {
   "cell_type": "code",
   "execution_count": null,
   "metadata": {},
   "outputs": [],
   "source": [
    "sus_users = df[df.name == 'Unknown']\n",
    "sus_users.head(),"
   ]
  },
  {
   "cell_type": "code",
   "execution_count": null,
   "metadata": {},
   "outputs": [],
   "source": [
    "sus_users.ip.value_counts()"
   ]
  },
  {
   "cell_type": "code",
   "execution_count": null,
   "metadata": {},
   "outputs": [],
   "source": [
    "df[df.ip == '97.105.19.58'].user_id.value_counts()"
   ]
  },
  {
   "cell_type": "code",
   "execution_count": null,
   "metadata": {},
   "outputs": [],
   "source": [
    "df[df.ip == '70.117.16.60'].user_id.value_counts()"
   ]
  },
  {
   "cell_type": "code",
   "execution_count": null,
   "metadata": {},
   "outputs": [],
   "source": [
    "df[df.ip == '70.117.16.60'].head()"
   ]
  },
  {
   "cell_type": "code",
   "execution_count": null,
   "metadata": {},
   "outputs": [],
   "source": [
    "df[df.ip == '70.94.165.107'].user_id.value_counts()"
   ]
  },
  {
   "cell_type": "code",
   "execution_count": null,
   "metadata": {},
   "outputs": [],
   "source": [
    "df[df.ip == '70.94.165.107'].head()"
   ]
  },
  {
   "cell_type": "code",
   "execution_count": null,
   "metadata": {},
   "outputs": [],
   "source": [
    "df[df.ip == '23.116.170.48'].user_id.value_counts()"
   ]
  },
  {
   "cell_type": "code",
   "execution_count": null,
   "metadata": {},
   "outputs": [],
   "source": [
    "df[df.ip == '23.116.170.48'].head()"
   ]
  },
  {
   "cell_type": "code",
   "execution_count": null,
   "metadata": {},
   "outputs": [],
   "source": [
    "df[df.name == 'Hyperion'].user_id.value_counts()"
   ]
  },
  {
   "cell_type": "code",
   "execution_count": null,
   "metadata": {},
   "outputs": [],
   "source": [
    "df[df.name == 'Darden'].user_id.value_counts()"
   ]
  },
  {
   "cell_type": "code",
   "execution_count": null,
   "metadata": {},
   "outputs": [],
   "source": [
    "anom = outliers.emp_rule(df.conv_ip, 5)\n",
    "anom.x.value_counts()"
   ]
  },
  {
   "cell_type": "code",
   "execution_count": null,
   "metadata": {},
   "outputs": [],
   "source": [
    "df[df.conv_ip == 216177181227.0].user_id.value_counts()"
   ]
  },
  {
   "cell_type": "code",
   "execution_count": null,
   "metadata": {},
   "outputs": [],
   "source": [
    "df[df.conv_ip == 216177181227.0].head()"
   ]
  },
  {
   "cell_type": "code",
   "execution_count": null,
   "metadata": {},
   "outputs": [],
   "source": [
    "df[df.conv_ip == 216177165194.0].user_id.value_counts()"
   ]
  },
  {
   "cell_type": "code",
   "execution_count": null,
   "metadata": {},
   "outputs": [],
   "source": [
    "df[df.conv_ip == 216177165194.0].head()"
   ]
  },
  {
   "cell_type": "code",
   "execution_count": null,
   "metadata": {},
   "outputs": [],
   "source": [
    "df[df.conv_ip == 209107196134.0].user_id.value_counts()"
   ]
  },
  {
   "cell_type": "code",
   "execution_count": null,
   "metadata": {},
   "outputs": [],
   "source": [
    "df[df.conv_ip == 209107196134.0]"
   ]
  },
  {
   "cell_type": "code",
   "execution_count": null,
   "metadata": {},
   "outputs": [],
   "source": [
    "df[df.conv_ip == 209205120222.0].user_id.value_counts()"
   ]
  },
  {
   "cell_type": "code",
   "execution_count": null,
   "metadata": {},
   "outputs": [],
   "source": [
    "df[df.conv_ip == 209205120222.0]"
   ]
  },
  {
   "cell_type": "code",
   "execution_count": null,
   "metadata": {},
   "outputs": [],
   "source": [
    "df[df.conv_ip == 209205221162.0].user_id.value_counts()"
   ]
  },
  {
   "cell_type": "code",
   "execution_count": null,
   "metadata": {},
   "outputs": [],
   "source": [
    "df[df.conv_ip == 209205221162.0]"
   ]
  },
  {
   "cell_type": "markdown",
   "metadata": {},
   "source": [
    "### Conclusions\n",
    "\n",
    "IT Event?:\n",
    "\n",
    "- It appears that something out of the norm happened with Hyperion's Cohort that caused every student to be reassigned a new user id and not registered to a specific cohort, program, or dates attended.\n",
    "- This event occured on or around July 20th.\n",
    "- It seems that all the students had continued on their designated curriculum path but under new untracked user id's.\n",
    "\n",
    "\n",
    "Anomolies:\n",
    "\n",
    "- The IP 216.177.165.194 is something I would flag as an alert, as they were an Ada student that appears to have completed the program, but utilizing the intro modules after graduation. Unknown if it was for refresher purposes or providing material to someone as a trial.\n",
    "\n",
    "- The IP 209.107.196.134 accessed the curriculum for Web Dev 3 years after the listed completion date from Atlanta, Georgia, however, it appears the only information they were interested in was the curriculum related to using GitHub. May not be any sort of breach.\n",
    "\n",
    "- The rest of the IP's appear to just be outliers and we can ignore the noise that is most likely resulting from multiple IP use."
   ]
  },
  {
   "cell_type": "markdown",
   "metadata": {},
   "source": [
    "### At some point in the last year, ability for students and alumni to cross-access curriculum (web dev to ds, ds to web dev) should have been shut off. Do you see any evidence of that happening? Did it happen before?"
   ]
  },
  {
   "cell_type": "code",
   "execution_count": null,
   "metadata": {},
   "outputs": [],
   "source": [
    "this_years_cohorts = df[df.start_date > '2020-01-01']"
   ]
  },
  {
   "cell_type": "code",
   "execution_count": null,
   "metadata": {},
   "outputs": [],
   "source": [
    "this_years_cohorts.groupby(this_years_cohorts.cohort_id).page_viewed.value_counts()"
   ]
  },
  {
   "cell_type": "code",
   "execution_count": null,
   "metadata": {},
   "outputs": [],
   "source": [
    "df[df.cohort_id == 55.0].head()"
   ]
  },
  {
   "cell_type": "code",
   "execution_count": null,
   "metadata": {},
   "outputs": [],
   "source": [
    "currie = df[df.cohort_id == 55.0]"
   ]
  },
  {
   "cell_type": "code",
   "execution_count": null,
   "metadata": {},
   "outputs": [],
   "source": [
    "currie[currie.page_viewed == 'java-ii/object-oriented-programming']"
   ]
  },
  {
   "cell_type": "code",
   "execution_count": null,
   "metadata": {},
   "outputs": [],
   "source": [
    "df[df.cohort_id == 61.0].head()"
   ]
  },
  {
   "cell_type": "code",
   "execution_count": null,
   "metadata": {},
   "outputs": [],
   "source": [
    "bash = df[df.cohort_id == 61.0]"
   ]
  },
  {
   "cell_type": "code",
   "execution_count": null,
   "metadata": {},
   "outputs": [],
   "source": [
    "bash[bash.page_viewed == 'anomaly-detection/continuous-probabilistic-methods']"
   ]
  },
  {
   "cell_type": "code",
   "execution_count": null,
   "metadata": {},
   "outputs": [],
   "source": [
    "bash[bash.user_id == 730.0].head()"
   ]
  },
  {
   "cell_type": "markdown",
   "metadata": {},
   "source": [
    "### Conclusions\n",
    "- It appears that the end of cross access was not successful and individuals are still able to access between both programs.\n",
    "- The bash student with user id 730 has been going back and forth between both programs curriculums as recently as a few weeks ago\n",
    "- The only thing I could assume is it could potentially be a student that became a staff member or instructor and are accessing on their own.\n",
    "- The IP belongs to someone in Dallas, TX so it's possible it could be a Dallas Codeup Office member.\n",
    "- Overall, if the goal was to disable students from cross access, we would have to assume that it did not work based on this data.\n",
    "- Further investigation would be needed to determine if this was a special situation."
   ]
  },
  {
   "cell_type": "markdown",
   "metadata": {},
   "source": [
    "### What topics are grads continuing to reference after graduation and into their jobs (for each program)?"
   ]
  },
  {
   "cell_type": "code",
   "execution_count": null,
   "metadata": {},
   "outputs": [],
   "source": [
    "wd_grads = df[df.end_date < '2019-01-01']"
   ]
  },
  {
   "cell_type": "code",
   "execution_count": null,
   "metadata": {},
   "outputs": [],
   "source": [
    "wd_grads = wd_grads[wd_grads.name != 'Staff']"
   ]
  },
  {
   "cell_type": "code",
   "execution_count": null,
   "metadata": {},
   "outputs": [],
   "source": [
    "wd_grads.head()"
   ]
  },
  {
   "cell_type": "code",
   "execution_count": null,
   "metadata": {},
   "outputs": [],
   "source": [
    "wd_grads.tail()"
   ]
  },
  {
   "cell_type": "code",
   "execution_count": null,
   "metadata": {},
   "outputs": [],
   "source": [
    "wd_grads.groupby(wd_grads.name).page_viewed.value_counts().nlargest(25)"
   ]
  },
  {
   "cell_type": "code",
   "execution_count": null,
   "metadata": {},
   "outputs": [],
   "source": [
    "voyageurs = wd[wd.name == 'Voyageurs']\n",
    "\n",
    "plt.figure(figsize=(8,5))\n",
    "voyageurs[voyageurs.page_viewed == 'javascript-i'].page_viewed.resample('m').count().plot()\n",
    "plt.title('Monthly Post Grad Voyageur Javascript I Traffic')\n",
    "plt.xlabel('Months')\n",
    "plt.ylabel('Number of Requests')"
   ]
  },
  {
   "cell_type": "code",
   "execution_count": null,
   "metadata": {
    "scrolled": true
   },
   "outputs": [],
   "source": [
    "wd_grads[wd_grads.name == 'Voyageurs'].tail()"
   ]
  },
  {
   "cell_type": "code",
   "execution_count": null,
   "metadata": {},
   "outputs": [],
   "source": [
    "ds_grads = df[df.end_date > '2019-06-16']\n",
    "ds_grads = ds_grads[ds_grads.end_date < '2020-07-07']\n",
    "ds_grads = ds_grads[ds_grads.program_id == 3.0]"
   ]
  },
  {
   "cell_type": "code",
   "execution_count": null,
   "metadata": {},
   "outputs": [],
   "source": [
    "ds_grads.head()"
   ]
  },
  {
   "cell_type": "code",
   "execution_count": null,
   "metadata": {},
   "outputs": [],
   "source": [
    "ds_grads.tail()"
   ]
  },
  {
   "cell_type": "code",
   "execution_count": null,
   "metadata": {},
   "outputs": [],
   "source": [
    "ds_grads.groupby(ds_grads.name).page_viewed.value_counts().nlargest()"
   ]
  },
  {
   "cell_type": "code",
   "execution_count": null,
   "metadata": {},
   "outputs": [],
   "source": [
    "bayes = ds_grads[ds_grads.index > '2020-01-30']\n",
    "bayes.head()"
   ]
  },
  {
   "cell_type": "code",
   "execution_count": null,
   "metadata": {},
   "outputs": [],
   "source": [
    "plt.figure(figsize=(8,5))\n",
    "bayes[bayes.page_viewed == '1-fundamentals/1.1-intro-to-data-science'].page_viewed.resample('m').count().plot()\n",
    "plt.title('Monthly Post Grad Bayes Intro To Data Science Traffic')\n",
    "plt.xlabel('Months')\n",
    "plt.ylabel('Number of Requests')"
   ]
  },
  {
   "cell_type": "code",
   "execution_count": null,
   "metadata": {},
   "outputs": [],
   "source": [
    "bayes.page_viewed.value_counts()"
   ]
  },
  {
   "cell_type": "markdown",
   "metadata": {},
   "source": [
    "### Conclusions\n",
    "\n",
    "Web Dev:\n",
    "\n",
    "- Based on the graduated cohorts that have had ample time to get a job and be secure in their job, it appears that Java I - III and MySQL are the subjects in the curriculum being accessed the most.\n",
    "\n",
    "- I did find it odd that the cohorts that have been accessing the curriculum the most is Voyageours and Teddy\n",
    "\n",
    "- Voyageurs graduated 2 years ago and this much activity was somewhat odd as it's been as recent as last month.\n",
    "\n",
    "Data Science:\n",
    "\n",
    "- Since Ada and Bayes are the only cohorts that have had ample time to get jobs and be established in their roles, I went ahead and assessed these cohorts further.\n",
    "\n",
    "- Ada's data is missing altogether, but based on Bayes, it appears that intro to data science and regression have been accessed the most.\n",
    "\n",
    "- We can assume the access to the intro to data science was just as a means to attempt to recruit new students, so regression is a place we can focus that students appear to need a refresher on.\n",
    "\n",
    "- Anomaly detection is the second highest if we ignore the intro portion of the curriculum."
   ]
  },
  {
   "cell_type": "markdown",
   "metadata": {},
   "source": [
    "### Which lessons are least accessed?"
   ]
  },
  {
   "cell_type": "code",
   "execution_count": null,
   "metadata": {},
   "outputs": [],
   "source": [
    "cohorts_with_data = df[df.start_date > '2018-01-01']"
   ]
  },
  {
   "cell_type": "code",
   "execution_count": null,
   "metadata": {},
   "outputs": [],
   "source": [
    "cohorts_with_data.head()"
   ]
  },
  {
   "cell_type": "code",
   "execution_count": null,
   "metadata": {},
   "outputs": [],
   "source": [
    "split_lesson = cohorts_with_data['page_viewed'].str.split(\"/\", n = 1, expand = True) \n",
    "split_lesson[\"lesson\"]= split_lesson[0] \n",
    "split_lesson[\"subject\"]= split_lesson[1] "
   ]
  },
  {
   "cell_type": "code",
   "execution_count": null,
   "metadata": {},
   "outputs": [],
   "source": [
    "split_lesson.drop(columns =[0,1], inplace = True)"
   ]
  },
  {
   "cell_type": "code",
   "execution_count": null,
   "metadata": {},
   "outputs": [],
   "source": [
    "split_lesson.head()"
   ]
  },
  {
   "cell_type": "code",
   "execution_count": null,
   "metadata": {},
   "outputs": [],
   "source": [
    "least_lesson = pd.concat([split_lesson, cohorts_with_data], axis = 1)"
   ]
  },
  {
   "cell_type": "code",
   "execution_count": null,
   "metadata": {
    "scrolled": true
   },
   "outputs": [],
   "source": [
    "least_lesson.head()"
   ]
  },
  {
   "cell_type": "code",
   "execution_count": null,
   "metadata": {},
   "outputs": [],
   "source": [
    "least_lesson.groupby(least_lesson.name).lesson.value_counts().nsmallest()"
   ]
  },
  {
   "cell_type": "code",
   "execution_count": null,
   "metadata": {},
   "outputs": [],
   "source": [
    "least_lesson = least_lesson[least_lesson.name != 'Andromeda']"
   ]
  },
  {
   "cell_type": "code",
   "execution_count": null,
   "metadata": {},
   "outputs": [],
   "source": [
    "plt.figure(figsize=(8,5))\n",
    "least_lesson[least_lesson.page_viewed == 'sessions-and-cookies'].page_viewed.resample('q').count().plot()\n",
    "plt.title('Quarterly Sessions and Cookies Page Visits')\n",
    "plt.xlabel('Quarters')\n",
    "plt.ylabel('Number of Requests')"
   ]
  },
  {
   "cell_type": "code",
   "execution_count": null,
   "metadata": {},
   "outputs": [],
   "source": [
    "plt.figure(figsize=(8,5))\n",
    "least_lesson[least_lesson.page_viewed == 'working-with-time-series-data'].page_viewed.resample('d').count().plot()\n",
    "plt.title('Daily Working With Time Series Data Page Visits')\n",
    "plt.xlabel('Days')\n",
    "plt.ylabel('Number of Requests')"
   ]
  },
  {
   "cell_type": "code",
   "execution_count": null,
   "metadata": {},
   "outputs": [],
   "source": [
    "least_lesson.groupby(least_lesson.lesson).program_id.value_counts().nlargest(100)"
   ]
  },
  {
   "cell_type": "markdown",
   "metadata": {},
   "source": [
    "### Conclusions\n",
    "\n",
    "- I chose to focus on the more lessons that were more reasonably lacking access and traffic by assessing only the values that are related to each cohort and reasonable for lack of access.\n",
    "\n",
    "- It's not logical that only 1 person would access the curriculum so I focused on grouping the values by lessons and expanding the data on the program id.\n",
    "\n",
    "\n",
    "Web Dev:\n",
    "\n",
    "- The least accessed lesson in the curriculum for Web Dev was Sessions and Cookies.\n",
    "\n",
    "- This may have been due to the subject itself may not have been as complex, but that is to be speculated as I am not familiar with web development.\n",
    "\n",
    "\n",
    "Data Science:\n",
    "\n",
    "- The least accessed lesson in the curriculum for Data Science was Working With Time Series.\n",
    "\n",
    "- This may be due to the part of the curriculum where you are learning more so from the instructors due to it's difficulty rather than trying to learn it on your own."
   ]
  },
  {
   "cell_type": "markdown",
   "metadata": {},
   "source": [
    "# Final Thoughts\n",
    "\n",
    "- This data presented some opportunities to possibly review any gaps in potential curriculum theft.\n",
    "- There are several points where students are accessing the curriculum many years after they have left Codeup.\n",
    "- This leaves the potential for someone to share the curriculum with others, share with another organization, or saved the curriculum for themselves.\n",
    "- A better security protocol for accessing the curriculum may benefit Codeup in the future as they continue to grow and differentiate themselves from other schools.\n",
    "- There are also many accesses from untracked ip's and we have no idea if it's an actual student or admin.\n",
    "- It also appears that there are some lessons that are overlapped by instructor tutorials so the students aren't referring directly to the curriculum for any further development.\n",
    "- The crossover between access of both programs appears to have still kept going, but we would need further review to see if the Baye's student became an instructor or staff member and is just accessing both as part of the benefit of being an employee.\n",
    "- Overall, this data is very useful for anomaly detection and discovery to see if there are any trends going on in each cohort."
   ]
  },
  {
   "cell_type": "code",
   "execution_count": null,
   "metadata": {},
   "outputs": [],
   "source": []
  },
  {
   "cell_type": "code",
   "execution_count": null,
   "metadata": {},
   "outputs": [],
   "source": []
  }
 ],
 "metadata": {
  "kernelspec": {
   "display_name": "Python 3",
   "language": "python",
   "name": "python3"
  },
  "language_info": {
   "codemirror_mode": {
    "name": "ipython",
    "version": 3
   },
   "file_extension": ".py",
   "mimetype": "text/x-python",
   "name": "python",
   "nbconvert_exporter": "python",
   "pygments_lexer": "ipython3",
   "version": "3.8.3"
  }
 },
 "nbformat": 4,
 "nbformat_minor": 4
}
